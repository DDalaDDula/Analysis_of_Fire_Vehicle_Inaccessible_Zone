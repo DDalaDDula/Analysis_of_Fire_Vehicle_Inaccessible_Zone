{
 "cells": [
  {
   "attachments": {},
   "cell_type": "markdown",
   "metadata": {},
   "source": [
    "## 기본설정 및 함수정의"
   ]
  },
  {
   "cell_type": "code",
   "execution_count": 1,
   "metadata": {},
   "outputs": [],
   "source": [
    "import pandas as pd\n",
    "import numpy as np\n",
    "import plotly.express as px\n",
    "import plotly.graph_objects as go\n",
    "import plotly.graph_objs as go\n",
    "import plotly.offline as offline\n",
    "from folium.plugins import HeatMapWithTime\n",
    "from plotly.subplots import make_subplots\n",
    "import folium\n",
    "from folium import plugins\n",
    "from folium.plugins import HeatMap\n",
    "from folium import FeatureGroup\n",
    "import json\n",
    "import math\n",
    "import re\n",
    "from datetime import datetime\n",
    "import os\n",
    "import glob\n",
    "import subprocess\n",
    "from bs4 import BeautifulSoup as bs\n",
    "from shapely.geometry import Point, Polygon, LineString\n",
    "from shapely.ops import unary_union\n",
    "import geopandas as gpd\n",
    "from geopandas import GeoSeries\n",
    "import pyproj\n",
    "from tqdm import tqdm\n",
    "from keplergl import KeplerGl\n",
    "\n",
    "# 모든 열이 생략되지 않도록 설정\n",
    "pd.set_option('display.max_columns', None)\n",
    "\n",
    "# 영등포역 위도, 경도\n",
    "ydp = [37.51569886583137, 126.90768824079629]\n",
    "\n",
    "# Point를만드는 함수\n",
    "def make_point(x):\n",
    "    try:\n",
    "        return Point(x)\n",
    "    except Exception as e:\n",
    "        print(f\"An error occurred: {e}\")\n",
    "        return None\n",
    "# Polygon을 만드는 함수\n",
    "def make_pol(x):\n",
    "    try:\n",
    "        return Polygon(x[0])\n",
    "    except:\n",
    "        return Polygon(x[0][0])\n",
    "    \n",
    "# Linestring을 만드는 함수\n",
    "def make_lin(x):\n",
    "    try:\n",
    "        return LineString(x)\n",
    "    except:\n",
    "        return LineString(x[0])\n",
    "\n",
    "# 데이터프레임을 GeoPandas 데이터프레임으로 변환하는 함수 정의\n",
    "def geo_transform(DataFrame) :\n",
    "    # csv to geopandas\n",
    "    # lon, lat data를 geometry로 변경\n",
    "    DataFrame['lat'] = DataFrame['lat'].astype(float)\n",
    "    DataFrame['lon'] = DataFrame['lon'].astype(float)\n",
    "    DataFrame['geometry'] = DataFrame.apply(lambda row : Point([row['lon'], row['lat']]), axis=1) # 위도 및 경도롤 GeoPandas Point 객체로 변환\n",
    "    DataFrame = gpd.GeoDataFrame(DataFrame, geometry='geometry')\n",
    "    DataFrame.crs = {'init':'epsg:4326'} # geopandas 데이터프레임의 좌표계를 EPSG 4326으로 설정\n",
    "    DataFrame = DataFrame.to_crs({'init':'epsg:4326'}) # 데이터프레임의 좌표계를 자체 좌표계에서 EPSG 4326으로 변환\n",
    "    return DataFrame"
   ]
  },
  {
   "cell_type": "markdown",
   "metadata": {},
   "source": [
    "#### 영등포구 행정경계 (출처 - 통계지리정보서비스 2023년 센서스용 행정구역경계(읍면동))"
   ]
  },
  {
   "cell_type": "code",
   "execution_count": 2,
   "metadata": {},
   "outputs": [],
   "source": [
    "# shp to geodataframe convert\n",
    "shapefile_path = \"SBJ_2406_001/_census_data_2023_bnd_dong_bnd_dong_11190_2023_2023\\\\bnd_dong_11190_2023_2023_2Q.shp\"\n",
    "ydp_gdf = gpd.read_file(shapefile_path)\n",
    "ydp_gdf = ydp_gdf.to_crs(epsg=4326) #EPSG4326 형식으로 변환"
   ]
  },
  {
   "attachments": {},
   "cell_type": "markdown",
   "metadata": {},
   "source": [
    "#### 격자(매핑용)"
   ]
  },
  {
   "cell_type": "code",
   "execution_count": 3,
   "metadata": {},
   "outputs": [],
   "source": [
    "# GeoJSON 파일 불러오기\n",
    "with open('SBJ_2406_001/19.영등포_격자(매핑용).geojson', encoding=\"UTF8\") as geojson_file:\n",
    "    geojson_data = json.load(geojson_file)\n",
    "grid_map_df = pd.json_normalize(geojson_data['features'])\n",
    "grid_map_df['geometry'] = grid_map_df['geometry.coordinates'].apply(lambda x : make_pol(x))\n",
    "grid_map_df.drop(columns=\"geometry.coordinates\", axis=1, inplace=True)\n",
    "# grid_map_df 데이터프레임을 GeoDataFrame으로 변환\n",
    "grid_map_df = gpd.GeoDataFrame(grid_map_df, geometry='geometry')"
   ]
  },
  {
   "attachments": {},
   "cell_type": "markdown",
   "metadata": {},
   "source": [
    "#### 영등포구 상세 도로망"
   ]
  },
  {
   "cell_type": "code",
   "execution_count": 4,
   "metadata": {},
   "outputs": [],
   "source": [
    "# GeoJSON 파일 불러오기\n",
    "with open('SBJ_2406_001/6.영등포_상세도로망.geojson', encoding=\"UTF8\") as geojson_file:\n",
    "    geojson_data = json.load(geojson_file)\n",
    "roadsystem_df = pd.json_normalize(geojson_data['features'])\n",
    "roadsystem_df['geometry'] = roadsystem_df['geometry.coordinates'].apply(lambda x : make_lin(x))\n",
    "roadsystem_df['properties.link_id'] = roadsystem_df['properties.link_id'].astype(str)\n",
    "roadsystem_df.drop(columns=\"geometry.coordinates\", axis=1, inplace=True)\n",
    "# roadsystem_df 데이터프레임을 GeoDataFrame으로 변환\n",
    "roadsystem_df = gpd.GeoDataFrame(roadsystem_df, geometry='geometry')"
   ]
  },
  {
   "cell_type": "code",
   "execution_count": null,
   "metadata": {},
   "outputs": [],
   "source": [
    "# 맵 객체 생성 및 데이터 로드\n",
    "ydp_map = KeplerGl(height=1000, width=1500)\n",
    "ydp_map.add_data(data=ydp_gdf, name=\"영등포구 행정동 데이터\")\n",
    "ydp_map.add_data(data=grid_map_df, name=\"영등포구 격자 데이터\")\n",
    "ydp_map.add_data(data=roadsystem_df, name=\"영등포구 도로망 데이터\")\n",
    "# 맵 출력 및 상세설정\n",
    "ydp_map"
   ]
  },
  {
   "cell_type": "code",
   "execution_count": 40,
   "metadata": {},
   "outputs": [
    {
     "name": "stdout",
     "output_type": "stream",
     "text": [
      "Map saved to visualization/영등포구 기본정보 map.html!\n"
     ]
    }
   ],
   "source": [
    "# 맵 저장\n",
    "ydp_map.save_to_html(file_name=\"visualization/영등포구 현황/영등포구 기본정보 map.html\")"
   ]
  },
  {
   "cell_type": "markdown",
   "metadata": {},
   "source": [
    "#### 추정교통량 시각화"
   ]
  },
  {
   "cell_type": "code",
   "execution_count": null,
   "metadata": {},
   "outputs": [],
   "source": [
    "# 도로 id와 geometry를 매핑한 딕셔너리 생성 : 추정교통량 data와 매핑 예정\n",
    "road_geo_dic = dict(zip(roadsystem_df['properties.link_id'], roadsystem_df['geometry']))\n",
    "\n",
    "traffic_df = pd.read_csv('SBJ_2406_001/5.영등포_추정교통량.csv')\n",
    "traffic_df['year'] = traffic_df['year'].astype(str)\n",
    "traffic_df['link_id'] = traffic_df['link_id'].astype(str)\n",
    "traffic_df['link_id'] = traffic_df['link_id'].apply(lambda x : x[:-2])\n",
    "traffic_df = traffic_df[traffic_df['timeslot'] == 'all'] # 일별 누적교통량 사용\n",
    "traffic_df['geometry'] = traffic_df['link_id'].map(road_geo_dic)\n",
    "traffic_df = gpd.GeoDataFrame(traffic_df, geometry='geometry')\n",
    "traffic_df"
   ]
  },
  {
   "cell_type": "code",
   "execution_count": null,
   "metadata": {},
   "outputs": [],
   "source": [
    "# 맵 객체 생성 및 데이터 로드\n",
    "ydp_road_estimating_map = KeplerGl(height=1000, width=1500)\n",
    "ydp_road_estimating_map.add_data(data=traffic_df, name=\"영등포구 추정교통량 데이터\")\n",
    "ydp_road_estimating_map.add_data(data=ydp_gdf, name=\"영등포구 행정동 데이터\")\n",
    "# 맵 출력 및 상세설정\n",
    "ydp_road_estimating_map"
   ]
  },
  {
   "cell_type": "code",
   "execution_count": 35,
   "metadata": {},
   "outputs": [
    {
     "name": "stdout",
     "output_type": "stream",
     "text": [
      "Map saved to visualization/영등포구 교통관련/영등포구 추정교통량 map.html!\n"
     ]
    }
   ],
   "source": [
    "# 맵 저장\n",
    "ydp_road_estimating_map.save_to_html(file_name=\"visualization/영등포구 교통관련/영등포구 추정교통량 map.html\")"
   ]
  },
  {
   "cell_type": "markdown",
   "metadata": {},
   "source": [
    "#### 도로명주소(도로)"
   ]
  },
  {
   "cell_type": "code",
   "execution_count": 65,
   "metadata": {},
   "outputs": [],
   "source": [
    "# GeoJSON 파일 불러오기\n",
    "with open('SBJ_2406_001/7.영등포_도로명주소(도로).geojson', encoding=\"UTF8\") as geojson_file:\n",
    "    geojson_data = json.load(geojson_file)\n",
    "roadname_df = pd.json_normalize(geojson_data['features'])\n",
    "roadname_df['geometry.coordinates'] = roadname_df['geometry.coordinates'].apply(lambda x : make_lin(x))\n",
    "roadname_df.rename(columns={'geometry.coordinates' : 'geometry'}, inplace=True)\n",
    "# roadname_df 데이터프레임을 GeoDataFrame으로 변환\n",
    "roadname_df = gpd.GeoDataFrame(roadname_df, geometry='geometry')"
   ]
  },
  {
   "cell_type": "markdown",
   "metadata": {},
   "source": [
    "#### 교통사고이력 시각화"
   ]
  },
  {
   "cell_type": "code",
   "execution_count": 57,
   "metadata": {},
   "outputs": [],
   "source": [
    "# GeoJSON 파일 불러오기\n",
    "with open('SBJ_2406_001/8.영등포_교통사고이력.geojson', encoding=\"UTF8\") as geojson_file:\n",
    "    geojson_data = json.load(geojson_file)\n",
    "accident_df = pd.json_normalize(geojson_data['features'])\n",
    "accident_df['geometry'] = accident_df['geometry.coordinates'].apply(lambda x : make_pol(x))\n",
    "\n",
    "# accident_df 데이터프레임을 GeoDataFrame으로 변환\n",
    "accident_df = gpd.GeoDataFrame(accident_df, geometry='geometry')\n",
    "accident_df.columns = [i.split(\"_\")[-1] for i in accident_df.columns]\n",
    "# 교통사고 건수 통합(3개년 통합)\n",
    "accident_df['tot_acc'] = accident_df['2020'] + accident_df['2021'] + accident_df['2022']\n",
    "accident_df['tot_acc'] = accident_df['tot_acc'].fillna(0)\n",
    "accident_df.rename(columns={'properties.gid' : 'gid'}, inplace=True)\n",
    "accident_df = accident_df[['gid', 'tot_acc', 'geometry']]\n",
    "accident_df = accident_df[accident_df['tot_acc'] != 0]"
   ]
  },
  {
   "cell_type": "code",
   "execution_count": null,
   "metadata": {},
   "outputs": [],
   "source": [
    "# 맵 객체 생성 및 데이터 로드\n",
    "ydp_accident_map = KeplerGl(height=1000, width=1500)\n",
    "ydp_accident_map.add_data(data=ydp_gdf, name=\"영등포구 행정동 데이터\")\n",
    "ydp_accident_map.add_data(data=roadname_df, name=\"영등포구 도로망 데이터\")\n",
    "ydp_accident_map.add_data(data=accident_df, name=\"영등포구 교통사고 데이터\")\n",
    "\n",
    "# 맵 출력 및 상세설정\n",
    "ydp_accident_map"
   ]
  },
  {
   "cell_type": "code",
   "execution_count": 60,
   "metadata": {},
   "outputs": [
    {
     "name": "stdout",
     "output_type": "stream",
     "text": [
      "Map saved to visualization/영등포구 교통관련/영등포구 교통사고이력 map.html!\n"
     ]
    }
   ],
   "source": [
    "# 맵 저장\n",
    "ydp_accident_map.save_to_html(file_name=\"visualization/영등포구 교통관련/영등포구 교통사고이력 map.html\")"
   ]
  },
  {
   "cell_type": "markdown",
   "metadata": {},
   "source": [
    "#### 불법주정차 단속이력 시각화"
   ]
  },
  {
   "cell_type": "code",
   "execution_count": 71,
   "metadata": {},
   "outputs": [
    {
     "name": "stderr",
     "output_type": "stream",
     "text": [
      "c:\\Users\\HJK\\anaconda3\\envs\\GIS\\lib\\site-packages\\pyproj\\crs\\crs.py:141: FutureWarning:\n",
      "\n",
      "'+init=<authority>:<code>' syntax is deprecated. '<authority>:<code>' is the preferred initialization method. When making the change, be mindful of axis order changes: https://pyproj4.github.io/pyproj/stable/gotchas.html#axis-order-changes-in-proj-6\n",
      "\n",
      "c:\\Users\\HJK\\anaconda3\\envs\\GIS\\lib\\site-packages\\pyproj\\crs\\crs.py:141: FutureWarning:\n",
      "\n",
      "'+init=<authority>:<code>' syntax is deprecated. '<authority>:<code>' is the preferred initialization method. When making the change, be mindful of axis order changes: https://pyproj4.github.io/pyproj/stable/gotchas.html#axis-order-changes-in-proj-6\n",
      "\n"
     ]
    },
    {
     "data": {
      "text/html": [
       "<div>\n",
       "<style scoped>\n",
       "    .dataframe tbody tr th:only-of-type {\n",
       "        vertical-align: middle;\n",
       "    }\n",
       "\n",
       "    .dataframe tbody tr th {\n",
       "        vertical-align: top;\n",
       "    }\n",
       "\n",
       "    .dataframe thead th {\n",
       "        text-align: right;\n",
       "    }\n",
       "</style>\n",
       "<table border=\"1\" class=\"dataframe\">\n",
       "  <thead>\n",
       "    <tr style=\"text-align: right;\">\n",
       "      <th></th>\n",
       "      <th>cd_ymd</th>\n",
       "      <th>lon</th>\n",
       "      <th>lat</th>\n",
       "      <th>geometry</th>\n",
       "    </tr>\n",
       "  </thead>\n",
       "  <tbody>\n",
       "    <tr>\n",
       "      <th>0</th>\n",
       "      <td>2021-01-01</td>\n",
       "      <td>126.891659</td>\n",
       "      <td>37.532106</td>\n",
       "      <td>POINT (126.89166 37.53211)</td>\n",
       "    </tr>\n",
       "    <tr>\n",
       "      <th>1</th>\n",
       "      <td>2021-01-01</td>\n",
       "      <td>126.892012</td>\n",
       "      <td>37.531427</td>\n",
       "      <td>POINT (126.89201 37.53143)</td>\n",
       "    </tr>\n",
       "    <tr>\n",
       "      <th>2</th>\n",
       "      <td>2021-01-01</td>\n",
       "      <td>126.902804</td>\n",
       "      <td>37.500968</td>\n",
       "      <td>POINT (126.90280 37.50097)</td>\n",
       "    </tr>\n",
       "    <tr>\n",
       "      <th>3</th>\n",
       "      <td>2021-01-01</td>\n",
       "      <td>126.932557</td>\n",
       "      <td>37.523259</td>\n",
       "      <td>POINT (126.93256 37.52326)</td>\n",
       "    </tr>\n",
       "    <tr>\n",
       "      <th>4</th>\n",
       "      <td>2021-01-01</td>\n",
       "      <td>126.922281</td>\n",
       "      <td>37.505354</td>\n",
       "      <td>POINT (126.92228 37.50535)</td>\n",
       "    </tr>\n",
       "    <tr>\n",
       "      <th>...</th>\n",
       "      <td>...</td>\n",
       "      <td>...</td>\n",
       "      <td>...</td>\n",
       "      <td>...</td>\n",
       "    </tr>\n",
       "    <tr>\n",
       "      <th>549810</th>\n",
       "      <td>2023-12-31</td>\n",
       "      <td>126.926353</td>\n",
       "      <td>37.524632</td>\n",
       "      <td>POINT (126.92635 37.52463)</td>\n",
       "    </tr>\n",
       "    <tr>\n",
       "      <th>549811</th>\n",
       "      <td>2023-12-31</td>\n",
       "      <td>126.920194</td>\n",
       "      <td>37.530227</td>\n",
       "      <td>POINT (126.92019 37.53023)</td>\n",
       "    </tr>\n",
       "    <tr>\n",
       "      <th>549812</th>\n",
       "      <td>2023-12-31</td>\n",
       "      <td>126.900990</td>\n",
       "      <td>37.490421</td>\n",
       "      <td>POINT (126.90099 37.49042)</td>\n",
       "    </tr>\n",
       "    <tr>\n",
       "      <th>549813</th>\n",
       "      <td>2023-12-31</td>\n",
       "      <td>126.902166</td>\n",
       "      <td>37.516641</td>\n",
       "      <td>POINT (126.90217 37.51664)</td>\n",
       "    </tr>\n",
       "    <tr>\n",
       "      <th>549814</th>\n",
       "      <td>2023-12-31</td>\n",
       "      <td>126.902052</td>\n",
       "      <td>37.517541</td>\n",
       "      <td>POINT (126.90205 37.51754)</td>\n",
       "    </tr>\n",
       "  </tbody>\n",
       "</table>\n",
       "<p>549815 rows × 4 columns</p>\n",
       "</div>"
      ],
      "text/plain": [
       "           cd_ymd         lon        lat                    geometry\n",
       "0      2021-01-01  126.891659  37.532106  POINT (126.89166 37.53211)\n",
       "1      2021-01-01  126.892012  37.531427  POINT (126.89201 37.53143)\n",
       "2      2021-01-01  126.902804  37.500968  POINT (126.90280 37.50097)\n",
       "3      2021-01-01  126.932557  37.523259  POINT (126.93256 37.52326)\n",
       "4      2021-01-01  126.922281  37.505354  POINT (126.92228 37.50535)\n",
       "...           ...         ...        ...                         ...\n",
       "549810 2023-12-31  126.926353  37.524632  POINT (126.92635 37.52463)\n",
       "549811 2023-12-31  126.920194  37.530227  POINT (126.92019 37.53023)\n",
       "549812 2023-12-31  126.900990  37.490421  POINT (126.90099 37.49042)\n",
       "549813 2023-12-31  126.902166  37.516641  POINT (126.90217 37.51664)\n",
       "549814 2023-12-31  126.902052  37.517541  POINT (126.90205 37.51754)\n",
       "\n",
       "[549815 rows x 4 columns]"
      ]
     },
     "execution_count": 71,
     "metadata": {},
     "output_type": "execute_result"
    }
   ],
   "source": [
    "illegal_parking_df = pd.read_csv('SBJ_2406_001/24.영등포_불법주정차단속이력.csv')\n",
    "illegal_parking_df['cd_ymd'] = pd.to_datetime(illegal_parking_df['cd_ymd'], format='%Y%m%d')\n",
    "illegal_parking_df = geo_transform(illegal_parking_df)\n",
    "illegal_parking_df"
   ]
  },
  {
   "cell_type": "code",
   "execution_count": null,
   "metadata": {},
   "outputs": [],
   "source": [
    "# 공간 조인 수행\n",
    "joined = gpd.sjoin(illegal_parking_df, grid_map_df, how=\"inner\", op='within')\n",
    "# 각 격자 내의 불법 주정차 점 개수 계산\n",
    "grid_parking_counts = joined.groupby(joined.index_right).size()\n",
    "# 결과를 grid_map_df에 추가\n",
    "grid_map_df_illegal = grid_map_df.copy()\n",
    "grid_map_df_illegal['illegal_parking_count'] = grid_parking_counts\n",
    "# NaN 값을 0으로 대체\n",
    "grid_map_df_illegal['illegal_parking_count'] = grid_map_df_illegal['illegal_parking_count'].fillna(0)"
   ]
  },
  {
   "cell_type": "code",
   "execution_count": null,
   "metadata": {},
   "outputs": [],
   "source": [
    "# 맵 객체 생성 및 데이터 로드\n",
    "ydp_illegal_parking_map = KeplerGl(height=1000, width=1500)\n",
    "ydp_illegal_parking_map.add_data(data=ydp_gdf, name=\"영등포구 행정동 데이터\")\n",
    "ydp_illegal_parking_map.add_data(data=roadname_df, name=\"영등포구 도로망 데이터\")\n",
    "ydp_illegal_parking_map.add_data(data=illegal_parking_df, name=\"영등포구 불법주정차단속 데이터\")\n",
    "ydp_illegal_parking_map.add_data(data=grid_map_df_illegal, name=\"영등포구 불법주정차단속 격자매핑 데이터\")\n",
    "\n",
    "# 맵 출력 및 상세설정\n",
    "ydp_illegal_parking_map"
   ]
  },
  {
   "cell_type": "code",
   "execution_count": 80,
   "metadata": {},
   "outputs": [
    {
     "name": "stdout",
     "output_type": "stream",
     "text": [
      "Map saved to visualization/영등포구 교통관련/영등포구 불법주정차단속이력 map.html!\n"
     ]
    }
   ],
   "source": [
    "# 맵 저장\n",
    "ydp_illegal_parking_map.save_to_html(file_name=\"visualization/영등포구 교통관련/영등포구 불법주정차단속이력 map.html\")"
   ]
  }
 ],
 "metadata": {
  "kernelspec": {
   "display_name": "Python 3.8.16 ('GIS')",
   "language": "python",
   "name": "python3"
  },
  "language_info": {
   "codemirror_mode": {
    "name": "ipython",
    "version": 3
   },
   "file_extension": ".py",
   "mimetype": "text/x-python",
   "name": "python",
   "nbconvert_exporter": "python",
   "pygments_lexer": "ipython3",
   "version": "3.8.16"
  },
  "orig_nbformat": 4,
  "vscode": {
   "interpreter": {
    "hash": "4c2ab1d16d29501e38a3ee1978e97de755e76d74519759c8e0a07f6b08052ab1"
   }
  }
 },
 "nbformat": 4,
 "nbformat_minor": 2
}
